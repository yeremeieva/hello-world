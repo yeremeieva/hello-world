{
 "nbformat": 4,
 "nbformat_minor": 0,
 "metadata": {
  "colab": {
   "provenance": []
  },
  "kernelspec": {
   "name": "python3",
   "language": "python",
   "display_name": "Python 3 (ipykernel)"
  },
  "language_info": {
   "name": "python"
  }
 },
 "cells": [
  {
   "cell_type": "markdown",
   "source": [
    "# I. OOP"
   ],
   "metadata": {
    "id": "5qV_sehzFCTp"
   }
  },
  {
   "cell_type": "markdown",
   "source": [
    "1. (6б). Створіть клас Animal, додайте три атрибути, один з яких має значення за замовчуванням та два методи на свій розсуд."
   ],
   "metadata": {
    "id": "tx_U_hOALyfg"
   }
  },
  {
   "cell_type": "code",
   "source": [
    "class Animal:\n",
    "\n",
    "    def __init__(self, name, species,color = 'white'):\n",
    "        self.name = name.capitalize()\n",
    "        self.species = species\n",
    "        self.color = color\n",
    "\n",
    "    def intro(self):\n",
    "        return f\"Hi! I am {self.color} {self.species}. My name is {self.name}.\"\n",
    "\n",
    "    def eat(self, food):\n",
    "        return f\"{self.name} eats {food}.\"\n"
   ],
   "metadata": {
    "id": "-Vf895KaL88N",
    "ExecuteTime": {
     "end_time": "2024-03-10T16:53:25.659421Z",
     "start_time": "2024-03-10T16:53:25.632139Z"
    }
   },
   "execution_count": 165,
   "outputs": []
  },
  {
   "cell_type": "markdown",
   "source": [
    "2. (2б). Створіть два обʼєкти цього класу, де один з обʼєктів створюється із дефолтним значенням атрибуту. На одному обʼєкті отримайте значення його атрибуту, а на іншому викличте один з його методів."
   ],
   "metadata": {
    "id": "X_UlOMB0L93w"
   }
  },
  {
   "cell_type": "code",
   "execution_count": 166,
   "outputs": [
    {
     "name": "stdout",
     "output_type": "stream",
     "text": [
      "Yolo\n"
     ]
    }
   ],
   "source": [
    "rabbit_yolo = Animal('yolo', 'domestic rabbit')\n",
    "print(rabbit_yolo.name)"
   ],
   "metadata": {
    "collapsed": false,
    "ExecuteTime": {
     "end_time": "2024-03-10T16:53:26.289330Z",
     "start_time": "2024-03-10T16:53:26.276617Z"
    }
   }
  },
  {
   "cell_type": "code",
   "execution_count": 167,
   "outputs": [
    {
     "name": "stdout",
     "output_type": "stream",
     "text": [
      "Hi! I am blue wild rabbit. My name is Vigro.\n"
     ]
    }
   ],
   "source": [
    "rabbit_vigro = Animal('vigro', 'wild rabbit', color='blue')\n",
    "print(rabbit_vigro.intro())"
   ],
   "metadata": {
    "collapsed": false,
    "ExecuteTime": {
     "end_time": "2024-03-10T16:53:26.679395Z",
     "start_time": "2024-03-10T16:53:26.671600Z"
    }
   }
  },
  {
   "cell_type": "markdown",
   "source": [
    "3. (5б). Створіть клас, де атрибути мають різні рівні доступу. Спробуйте отримати їхні значення та опишіть результати."
   ],
   "metadata": {
    "id": "HoqSCZt1MHn5"
   }
  },
  {
   "cell_type": "code",
   "source": [
    "class Squirrel:\n",
    "\n",
    "    def __init__(self, name, color, speed):\n",
    "        self.name = name.capitalize()\n",
    "        self._color = color\n",
    "        self.__speed = speed\n"
   ],
   "metadata": {
    "id": "r9b3vJxBMSPV",
    "ExecuteTime": {
     "end_time": "2024-03-10T16:53:48.866712Z",
     "start_time": "2024-03-10T16:53:48.862545Z"
    }
   },
   "execution_count": 169,
   "outputs": []
  },
  {
   "cell_type": "code",
   "execution_count": 170,
   "outputs": [],
   "source": [
    "squirrel_sofiyka = Squirrel('sofiyka', 'brown', 'really fast')"
   ],
   "metadata": {
    "collapsed": false,
    "ExecuteTime": {
     "end_time": "2024-03-10T16:53:51.427142Z",
     "start_time": "2024-03-10T16:53:51.419729Z"
    }
   }
  },
  {
   "cell_type": "code",
   "execution_count": 171,
   "outputs": [
    {
     "data": {
      "text/plain": "'Sofiyka'"
     },
     "execution_count": 171,
     "metadata": {},
     "output_type": "execute_result"
    }
   ],
   "source": [
    "squirrel_sofiyka.name"
   ],
   "metadata": {
    "collapsed": false,
    "ExecuteTime": {
     "end_time": "2024-03-10T16:53:52.030282Z",
     "start_time": "2024-03-10T16:53:52.020750Z"
    }
   }
  },
  {
   "cell_type": "code",
   "execution_count": 172,
   "outputs": [
    {
     "data": {
      "text/plain": "'brown'"
     },
     "execution_count": 172,
     "metadata": {},
     "output_type": "execute_result"
    }
   ],
   "source": [
    "squirrel_sofiyka._color"
   ],
   "metadata": {
    "collapsed": false,
    "ExecuteTime": {
     "end_time": "2024-03-10T16:53:53.039602Z",
     "start_time": "2024-03-10T16:53:53.032109Z"
    }
   }
  },
  {
   "cell_type": "code",
   "execution_count": 173,
   "outputs": [
    {
     "ename": "AttributeError",
     "evalue": "'Squirrel' object has no attribute '__speed'",
     "output_type": "error",
     "traceback": [
      "\u001B[0;31m---------------------------------------------------------------------------\u001B[0m",
      "\u001B[0;31mAttributeError\u001B[0m                            Traceback (most recent call last)",
      "Input \u001B[0;32mIn [173]\u001B[0m, in \u001B[0;36m<cell line: 1>\u001B[0;34m()\u001B[0m\n\u001B[0;32m----> 1\u001B[0m \u001B[43msquirrel_sofiyka\u001B[49m\u001B[38;5;241;43m.\u001B[39;49m\u001B[43m__speed\u001B[49m\n",
      "\u001B[0;31mAttributeError\u001B[0m: 'Squirrel' object has no attribute '__speed'"
     ]
    }
   ],
   "source": [
    "squirrel_sofiyka.__speed"
   ],
   "metadata": {
    "collapsed": false,
    "ExecuteTime": {
     "end_time": "2024-03-10T16:54:03.100379Z",
     "start_time": "2024-03-10T16:54:03.087374Z"
    }
   }
  },
  {
   "cell_type": "markdown",
   "source": [
    "Ми можемо легко доступитися до публічної змінної. Для захищеної ми бачимо попередження, проте все ж таки можемо отримати результат. Для приватної змінної ми не отримаємо результату, а лише помилку."
   ],
   "metadata": {
    "collapsed": false
   }
  },
  {
   "cell_type": "markdown",
   "source": [
    "4. (7б). Як ви розумієте термін self? Для чого використовується метод __init __?"
   ],
   "metadata": {
    "id": "5op2m2vgMSkZ"
   }
  },
  {
   "cell_type": "markdown",
   "source": [
    "self використовується як ключове слово this для доступу до полів та методів класу. __init__ це конструктор для створення обєктів."
   ],
   "metadata": {
    "id": "DyiPqNRvMasx"
   }
  },
  {
   "cell_type": "markdown",
   "source": [
    "5. (9б). Створіть клас Фігура без атрибутів, з методом get_area для отримання площі фігури, що повертає 0 та __add __, який приймає self та other в якості аргументів, а повертає суму площин фігур self та other."
   ],
   "metadata": {
    "id": "-6X8EGfjMd2y"
   }
  },
  {
   "cell_type": "code",
   "source": [
    "class Figure:\n",
    "\n",
    "    def get_area(self):\n",
    "        return 0\n",
    "\n",
    "    def __add__(self, other):\n",
    "        return self.get_area() + other.get_area()"
   ],
   "metadata": {
    "id": "4rvO_wYUMaEr",
    "ExecuteTime": {
     "end_time": "2024-03-09T20:50:26.667960Z",
     "start_time": "2024-03-09T20:50:26.662286Z"
    }
   },
   "execution_count": 56,
   "outputs": []
  },
  {
   "cell_type": "markdown",
   "source": [
    "6. (11б). Створіть 2 дочірніх класи від Фігури: Трикутник та Коло, які мають атрибути, необхідні для розрахунку площин. Визначте метод get_area в кожному з них так, щоби вони розраховували площу в залежності від формули для кожного типу фігури. Створіть обʼєкт класу Трикутник та обʼєкт класу Коло. Виконайте операцію суми за допомогою оператора + між ними."
   ],
   "metadata": {
    "id": "SFcKnnv5Mo_z"
   }
  },
  {
   "cell_type": "code",
   "source": [
    "class Circle(Figure):\n",
    "    def __init__(self, radius):\n",
    "        self.radius = radius\n",
    "\n",
    "    def get_area(self):\n",
    "        return 3.14 * self.radius ** 2\n"
   ],
   "metadata": {
    "id": "H3GVNr69Muf3",
    "ExecuteTime": {
     "end_time": "2024-03-09T20:50:27.653385Z",
     "start_time": "2024-03-09T20:50:27.643817Z"
    }
   },
   "execution_count": 57,
   "outputs": []
  },
  {
   "cell_type": "code",
   "execution_count": 58,
   "outputs": [],
   "source": [
    "class Triangle(Figure):\n",
    "    def __init__(self, height, base):\n",
    "        self.height = height\n",
    "        self.base = base\n",
    "\n",
    "    def get_area(self):\n",
    "        return 0.5 * self.height * self.base"
   ],
   "metadata": {
    "collapsed": false,
    "ExecuteTime": {
     "end_time": "2024-03-09T20:50:28.079279Z",
     "start_time": "2024-03-09T20:50:28.072718Z"
    }
   }
  },
  {
   "cell_type": "code",
   "execution_count": 59,
   "outputs": [
    {
     "data": {
      "text/plain": "78.26"
     },
     "execution_count": 59,
     "metadata": {},
     "output_type": "execute_result"
    }
   ],
   "source": [
    "small_circle = Circle(3)\n",
    "big_triangle = Triangle(10, 10)\n",
    "\n",
    "big_triangle.__add__(small_circle)"
   ],
   "metadata": {
    "collapsed": false,
    "ExecuteTime": {
     "end_time": "2024-03-09T20:50:28.633316Z",
     "start_time": "2024-03-09T20:50:28.628606Z"
    }
   }
  },
  {
   "cell_type": "markdown",
   "source": [
    "7. (3б). Продемонструйте різницю між isinstance та issubclass."
   ],
   "metadata": {
    "id": "HCvR206YMvLK"
   }
  },
  {
   "cell_type": "code",
   "source": [
    "isinstance(big_triangle, Triangle)"
   ],
   "metadata": {
    "id": "L_V1bBvDM0GN",
    "ExecuteTime": {
     "end_time": "2024-03-09T20:56:17.540033Z",
     "start_time": "2024-03-09T20:56:17.526395Z"
    }
   },
   "execution_count": 60,
   "outputs": [
    {
     "data": {
      "text/plain": "True"
     },
     "execution_count": 60,
     "metadata": {},
     "output_type": "execute_result"
    }
   ]
  },
  {
   "cell_type": "code",
   "execution_count": 61,
   "outputs": [
    {
     "data": {
      "text/plain": "True"
     },
     "execution_count": 61,
     "metadata": {},
     "output_type": "execute_result"
    }
   ],
   "source": [
    "issubclass(Triangle, Figure)"
   ],
   "metadata": {
    "collapsed": false,
    "ExecuteTime": {
     "end_time": "2024-03-09T20:56:37.893897Z",
     "start_time": "2024-03-09T20:56:37.890163Z"
    }
   }
  },
  {
   "cell_type": "markdown",
   "source": [
    "8. (13б). Створіть клас BankAccount з приватними атрибутами balance та account_number. Реалізуйте методи поповнення та зняття коштів, забезпечивши належну інкапсуляцію. Підказка: використовуйте декоратори property та setter."
   ],
   "metadata": {
    "id": "jjsaBZ-iM0Qq"
   }
  },
  {
   "cell_type": "code",
   "source": [
    "class BankAccount:\n",
    "    def __init__(self, account_number, balance):\n",
    "        self.__account_number = account_number\n",
    "        self.__balance = balance\n",
    "\n",
    "    @property\n",
    "    def account_number(self):\n",
    "        return self.__account_number\n",
    "\n",
    "    @account_number.setter\n",
    "    def account_number(self, value):\n",
    "        self.__account_number = value\n",
    "\n",
    "    @property\n",
    "    def balance(self):\n",
    "        return self.__balance\n",
    "\n",
    "    def increase_balance(self, value):\n",
    "        self.__balance += value\n",
    "\n",
    "    def decrease_balance(self, value):\n",
    "        self.__balance -= value\n"
   ],
   "metadata": {
    "id": "xCvZ7lh8M7YA",
    "ExecuteTime": {
     "end_time": "2024-03-09T21:17:58.053685Z",
     "start_time": "2024-03-09T21:17:58.049411Z"
    }
   },
   "execution_count": 89,
   "outputs": []
  },
  {
   "cell_type": "code",
   "execution_count": 90,
   "outputs": [],
   "source": [
    "my_account = BankAccount('11155533', 250000)"
   ],
   "metadata": {
    "collapsed": false,
    "ExecuteTime": {
     "end_time": "2024-03-09T21:17:58.536508Z",
     "start_time": "2024-03-09T21:17:58.529412Z"
    }
   }
  },
  {
   "cell_type": "code",
   "execution_count": 93,
   "outputs": [
    {
     "data": {
      "text/plain": "250000"
     },
     "execution_count": 93,
     "metadata": {},
     "output_type": "execute_result"
    }
   ],
   "source": [
    "my_account.balance"
   ],
   "metadata": {
    "collapsed": false,
    "ExecuteTime": {
     "end_time": "2024-03-09T21:18:45.678984Z",
     "start_time": "2024-03-09T21:18:45.657922Z"
    }
   }
  },
  {
   "cell_type": "code",
   "execution_count": 94,
   "outputs": [
    {
     "ename": "AttributeError",
     "evalue": "can't set attribute",
     "output_type": "error",
     "traceback": [
      "\u001B[0;31m---------------------------------------------------------------------------\u001B[0m",
      "\u001B[0;31mAttributeError\u001B[0m                            Traceback (most recent call last)",
      "Input \u001B[0;32mIn [94]\u001B[0m, in \u001B[0;36m<cell line: 1>\u001B[0;34m()\u001B[0m\n\u001B[0;32m----> 1\u001B[0m my_account\u001B[38;5;241m.\u001B[39mbalance \u001B[38;5;241m=\u001B[39m \u001B[38;5;241m100\u001B[39m\n",
      "\u001B[0;31mAttributeError\u001B[0m: can't set attribute"
     ]
    }
   ],
   "source": [
    "my_account.balance = 100"
   ],
   "metadata": {
    "collapsed": false,
    "ExecuteTime": {
     "end_time": "2024-03-09T21:18:54.070237Z",
     "start_time": "2024-03-09T21:18:54.067331Z"
    }
   }
  },
  {
   "cell_type": "code",
   "execution_count": 95,
   "outputs": [
    {
     "data": {
      "text/plain": "'11155533'"
     },
     "execution_count": 95,
     "metadata": {},
     "output_type": "execute_result"
    }
   ],
   "source": [
    "my_account.account_number"
   ],
   "metadata": {
    "collapsed": false,
    "ExecuteTime": {
     "end_time": "2024-03-09T21:19:07.181285Z",
     "start_time": "2024-03-09T21:19:07.171083Z"
    }
   }
  },
  {
   "cell_type": "code",
   "execution_count": 96,
   "outputs": [],
   "source": [
    "my_account.account_number = '11155534'"
   ],
   "metadata": {
    "collapsed": false,
    "ExecuteTime": {
     "end_time": "2024-03-09T21:19:22.174947Z",
     "start_time": "2024-03-09T21:19:22.166665Z"
    }
   }
  },
  {
   "cell_type": "code",
   "execution_count": 97,
   "outputs": [
    {
     "data": {
      "text/plain": "'11155534'"
     },
     "execution_count": 97,
     "metadata": {},
     "output_type": "execute_result"
    }
   ],
   "source": [
    "my_account.account_number"
   ],
   "metadata": {
    "collapsed": false,
    "ExecuteTime": {
     "end_time": "2024-03-09T21:19:29.056750Z",
     "start_time": "2024-03-09T21:19:29.017320Z"
    }
   }
  },
  {
   "cell_type": "code",
   "execution_count": 98,
   "outputs": [],
   "source": [
    "my_account.increase_balance(1000)"
   ],
   "metadata": {
    "collapsed": false,
    "ExecuteTime": {
     "end_time": "2024-03-09T21:20:36.129614Z",
     "start_time": "2024-03-09T21:20:36.128604Z"
    }
   }
  },
  {
   "cell_type": "code",
   "execution_count": 99,
   "outputs": [
    {
     "data": {
      "text/plain": "251000"
     },
     "execution_count": 99,
     "metadata": {},
     "output_type": "execute_result"
    }
   ],
   "source": [
    "my_account.balance"
   ],
   "metadata": {
    "collapsed": false,
    "ExecuteTime": {
     "end_time": "2024-03-09T21:20:39.411464Z",
     "start_time": "2024-03-09T21:20:39.402961Z"
    }
   }
  },
  {
   "cell_type": "code",
   "execution_count": 100,
   "outputs": [],
   "source": [
    "my_account.decrease_balance(500)"
   ],
   "metadata": {
    "collapsed": false,
    "ExecuteTime": {
     "end_time": "2024-03-09T21:21:09.781703Z",
     "start_time": "2024-03-09T21:21:09.775748Z"
    }
   }
  },
  {
   "cell_type": "code",
   "execution_count": 101,
   "outputs": [
    {
     "data": {
      "text/plain": "250500"
     },
     "execution_count": 101,
     "metadata": {},
     "output_type": "execute_result"
    }
   ],
   "source": [
    "my_account.balance"
   ],
   "metadata": {
    "collapsed": false,
    "ExecuteTime": {
     "end_time": "2024-03-09T21:21:13.787355Z",
     "start_time": "2024-03-09T21:21:13.779240Z"
    }
   }
  },
  {
   "cell_type": "markdown",
   "source": [
    "9. (11б). Створіть клас Library, який містить список об'єктів типу Book. Реалізуйте методи для додавання книги, видалення книги та відображення списку книг."
   ],
   "metadata": {
    "id": "tIzL2SJTM8ft"
   }
  },
  {
   "cell_type": "code",
   "source": [
    "class Book:\n",
    "    def __init__(self, title, author, year):\n",
    "        self.title = title\n",
    "        self.author = author\n",
    "        self.year = year"
   ],
   "metadata": {
    "id": "HWxfJKLtNAUZ",
    "ExecuteTime": {
     "end_time": "2024-03-09T21:29:59.205743Z",
     "start_time": "2024-03-09T21:29:59.204999Z"
    }
   },
   "execution_count": 102,
   "outputs": []
  },
  {
   "cell_type": "code",
   "execution_count": 133,
   "outputs": [],
   "source": [
    "class Library:\n",
    "    def __init__(self):\n",
    "        self.books = []\n",
    "\n",
    "    def add_book(self, title, author, year):\n",
    "        book = Book(title, author, year)\n",
    "        self.books.append(book)\n",
    "\n",
    "    def remove_book(self, title):\n",
    "        for book in self.books:\n",
    "            if book.title == title:\n",
    "                self.books.remove(book)\n",
    "\n",
    "    def show(self):\n",
    "        for index, book in enumerate(self.books, start=1):\n",
    "            print(f\"{index}. '{book.title}' by {book.author} in {book.year} \")"
   ],
   "metadata": {
    "collapsed": false,
    "ExecuteTime": {
     "end_time": "2024-03-09T21:44:20.759691Z",
     "start_time": "2024-03-09T21:44:20.755625Z"
    }
   }
  },
  {
   "cell_type": "code",
   "execution_count": 134,
   "outputs": [],
   "source": [
    "library = Library()"
   ],
   "metadata": {
    "collapsed": false,
    "ExecuteTime": {
     "end_time": "2024-03-09T21:44:21.109440Z",
     "start_time": "2024-03-09T21:44:21.094870Z"
    }
   }
  },
  {
   "cell_type": "code",
   "execution_count": 135,
   "outputs": [],
   "source": [
    "library.add_book('Endless Poems', 'Sofiia Yeremeieva', 2020)\n",
    "library.add_book('Feeling and Knowing', 'Antonio Damasio', 2019)\n",
    "library.add_book('Time', 'Stephen Hawking', 2010)"
   ],
   "metadata": {
    "collapsed": false,
    "ExecuteTime": {
     "end_time": "2024-03-09T21:44:21.462200Z",
     "start_time": "2024-03-09T21:44:21.453606Z"
    }
   }
  },
  {
   "cell_type": "code",
   "execution_count": 136,
   "outputs": [
    {
     "name": "stdout",
     "output_type": "stream",
     "text": [
      "1. 'Endless Poems' by Sofiia Yeremeieva in 2020 \n",
      "2. 'Feeling and Knowing' by Antonio Damasio in 2019 \n",
      "3. 'Time' by Stephen Hawking in 2010 \n"
     ]
    }
   ],
   "source": [
    "library.show()"
   ],
   "metadata": {
    "collapsed": false,
    "ExecuteTime": {
     "end_time": "2024-03-09T21:44:21.898082Z",
     "start_time": "2024-03-09T21:44:21.895932Z"
    }
   }
  },
  {
   "cell_type": "code",
   "execution_count": 137,
   "outputs": [],
   "source": [
    "library.remove_book('Time')"
   ],
   "metadata": {
    "collapsed": false,
    "ExecuteTime": {
     "end_time": "2024-03-09T21:44:22.441001Z",
     "start_time": "2024-03-09T21:44:22.431802Z"
    }
   }
  },
  {
   "cell_type": "code",
   "execution_count": 138,
   "outputs": [
    {
     "name": "stdout",
     "output_type": "stream",
     "text": [
      "1. 'Endless Poems' by Sofiia Yeremeieva in 2020 \n",
      "2. 'Feeling and Knowing' by Antonio Damasio in 2019 \n"
     ]
    }
   ],
   "source": [
    "library.show()"
   ],
   "metadata": {
    "collapsed": false,
    "ExecuteTime": {
     "end_time": "2024-03-09T21:44:23.522217Z",
     "start_time": "2024-03-09T21:44:23.512329Z"
    }
   }
  },
  {
   "cell_type": "markdown",
   "source": [
    "10. (13б). Створіть клас Person з атрибутами name та age. Створіть ще один клас Employee з такими атрибутами, як department та salary. Створіть клас Manager, який успадковує обидва класи Person та Employee. Продемонструйте використання множинної спадковості, створивши обʼєкт класу Manager та отримавши mro для цього класу."
   ],
   "metadata": {
    "id": "lmV8pAwwNIqu"
   }
  },
  {
   "cell_type": "code",
   "source": [
    "class Person:\n",
    "    def __init__(self, name, age):\n",
    "        self.name = name\n",
    "        self.age = age"
   ],
   "metadata": {
    "id": "R49grKlWNPeN",
    "ExecuteTime": {
     "end_time": "2024-03-09T22:19:24.190841Z",
     "start_time": "2024-03-09T22:19:24.134359Z"
    }
   },
   "execution_count": 143,
   "outputs": []
  },
  {
   "cell_type": "code",
   "execution_count": 144,
   "outputs": [],
   "source": [
    "class Employee():\n",
    "    def __init__(self, department, salary):\n",
    "        self.department = department\n",
    "        self.salary = salary"
   ],
   "metadata": {
    "collapsed": false,
    "ExecuteTime": {
     "end_time": "2024-03-09T22:19:24.238593Z",
     "start_time": "2024-03-09T22:19:24.148692Z"
    }
   }
  },
  {
   "cell_type": "code",
   "execution_count": 145,
   "outputs": [],
   "source": [
    "class Manager(Person, Employee):\n",
    "    def __init__(self, name, age, department, salary):\n",
    "        Person.__init__(self, name, age)\n",
    "        Employee.__init__(self, department, salary)"
   ],
   "metadata": {
    "collapsed": false,
    "ExecuteTime": {
     "end_time": "2024-03-09T22:19:24.742863Z",
     "start_time": "2024-03-09T22:19:24.733581Z"
    }
   }
  },
  {
   "cell_type": "code",
   "execution_count": 148,
   "outputs": [],
   "source": [
    "manager = Manager('Sofiia', 20, 'Neurotech', 100000)"
   ],
   "metadata": {
    "collapsed": false,
    "ExecuteTime": {
     "end_time": "2024-03-09T22:19:57.218768Z",
     "start_time": "2024-03-09T22:19:57.217370Z"
    }
   }
  },
  {
   "cell_type": "code",
   "execution_count": 149,
   "outputs": [
    {
     "data": {
      "text/plain": "'Sofiia'"
     },
     "execution_count": 149,
     "metadata": {},
     "output_type": "execute_result"
    }
   ],
   "source": [
    "manager.name"
   ],
   "metadata": {
    "collapsed": false,
    "ExecuteTime": {
     "end_time": "2024-03-09T22:19:57.550104Z",
     "start_time": "2024-03-09T22:19:57.531700Z"
    }
   }
  },
  {
   "cell_type": "code",
   "execution_count": 150,
   "outputs": [
    {
     "data": {
      "text/plain": "20"
     },
     "execution_count": 150,
     "metadata": {},
     "output_type": "execute_result"
    }
   ],
   "source": [
    "manager.age"
   ],
   "metadata": {
    "collapsed": false,
    "ExecuteTime": {
     "end_time": "2024-03-09T22:20:01.989502Z",
     "start_time": "2024-03-09T22:20:01.980861Z"
    }
   }
  },
  {
   "cell_type": "code",
   "execution_count": 151,
   "outputs": [
    {
     "data": {
      "text/plain": "'Neurotech'"
     },
     "execution_count": 151,
     "metadata": {},
     "output_type": "execute_result"
    }
   ],
   "source": [
    "manager.department"
   ],
   "metadata": {
    "collapsed": false,
    "ExecuteTime": {
     "end_time": "2024-03-09T22:20:10.863169Z",
     "start_time": "2024-03-09T22:20:10.858447Z"
    }
   }
  },
  {
   "cell_type": "code",
   "execution_count": 153,
   "outputs": [
    {
     "data": {
      "text/plain": "100000"
     },
     "execution_count": 153,
     "metadata": {},
     "output_type": "execute_result"
    }
   ],
   "source": [
    "manager.salary"
   ],
   "metadata": {
    "collapsed": false,
    "ExecuteTime": {
     "end_time": "2024-03-09T22:20:26.914494Z",
     "start_time": "2024-03-09T22:20:26.907683Z"
    }
   }
  },
  {
   "cell_type": "markdown",
   "source": [
    "# II. Iterator"
   ],
   "metadata": {
    "id": "dIJyUiNBFG8G"
   }
  },
  {
   "cell_type": "markdown",
   "source": [
    "11. (4б). Визначте рядок(str) з 4ма різними за значенням символами. Створіть ітератор на основі цього рядка. Викличте 5 разів функцію next на ітераторі, 4ри перших з них огорніть у ф-цію print()."
   ],
   "metadata": {
    "id": "13vsm0NyKIzL"
   }
  },
  {
   "cell_type": "code",
   "source": [
    "string = \"abcd\"\n",
    "iterator = iter(string)\n",
    "\n",
    "for i in range(5):\n",
    "    value = next(iterator)\n",
    "    if i < 4:\n",
    "        print(value)\n",
    "    else:\n",
    "        raise StopIteration"
   ],
   "metadata": {
    "id": "81ntabAkKuz-",
    "ExecuteTime": {
     "end_time": "2024-03-09T22:30:03.128993Z",
     "start_time": "2024-03-09T22:30:03.122979Z"
    }
   },
   "execution_count": 159,
   "outputs": [
    {
     "name": "stdout",
     "output_type": "stream",
     "text": [
      "a\n",
      "b\n",
      "c\n",
      "d\n"
     ]
    },
    {
     "ename": "StopIteration",
     "evalue": "",
     "output_type": "error",
     "traceback": [
      "\u001B[0;31m---------------------------------------------------------------------------\u001B[0m",
      "\u001B[0;31mStopIteration\u001B[0m                             Traceback (most recent call last)",
      "Input \u001B[0;32mIn [159]\u001B[0m, in \u001B[0;36m<cell line: 4>\u001B[0;34m()\u001B[0m\n\u001B[1;32m      2\u001B[0m iterator \u001B[38;5;241m=\u001B[39m \u001B[38;5;28miter\u001B[39m(string)\n\u001B[1;32m      4\u001B[0m \u001B[38;5;28;01mfor\u001B[39;00m i \u001B[38;5;129;01min\u001B[39;00m \u001B[38;5;28mrange\u001B[39m(\u001B[38;5;241m5\u001B[39m):\n\u001B[0;32m----> 5\u001B[0m     value \u001B[38;5;241m=\u001B[39m \u001B[38;5;28;43mnext\u001B[39;49m\u001B[43m(\u001B[49m\u001B[43miterator\u001B[49m\u001B[43m)\u001B[49m\n\u001B[1;32m      6\u001B[0m     \u001B[38;5;28;01mif\u001B[39;00m i \u001B[38;5;241m<\u001B[39m \u001B[38;5;241m4\u001B[39m:\n\u001B[1;32m      7\u001B[0m         \u001B[38;5;28mprint\u001B[39m(value)\n",
      "\u001B[0;31mStopIteration\u001B[0m: "
     ]
    }
   ]
  },
  {
   "cell_type": "markdown",
   "source": [
    "А що якщо викликати цю ж функцію на рядку?"
   ],
   "metadata": {
    "id": "aekWHGXOLRsO"
   }
  },
  {
   "cell_type": "code",
   "source": [
    "string = \"abcd\"\n",
    "\n",
    "for i in range(5):\n",
    "    value = next(string)\n",
    "    if i < 4:\n",
    "        print(value)\n",
    "    else:\n",
    "        raise StopIteration"
   ],
   "metadata": {
    "id": "mxATGsErLV1i",
    "ExecuteTime": {
     "end_time": "2024-03-09T22:30:12.798330Z",
     "start_time": "2024-03-09T22:30:12.788055Z"
    }
   },
   "execution_count": 160,
   "outputs": [
    {
     "ename": "TypeError",
     "evalue": "'str' object is not an iterator",
     "output_type": "error",
     "traceback": [
      "\u001B[0;31m---------------------------------------------------------------------------\u001B[0m",
      "\u001B[0;31mTypeError\u001B[0m                                 Traceback (most recent call last)",
      "Input \u001B[0;32mIn [160]\u001B[0m, in \u001B[0;36m<cell line: 3>\u001B[0;34m()\u001B[0m\n\u001B[1;32m      1\u001B[0m string \u001B[38;5;241m=\u001B[39m \u001B[38;5;124m\"\u001B[39m\u001B[38;5;124mabcd\u001B[39m\u001B[38;5;124m\"\u001B[39m\n\u001B[1;32m      3\u001B[0m \u001B[38;5;28;01mfor\u001B[39;00m i \u001B[38;5;129;01min\u001B[39;00m \u001B[38;5;28mrange\u001B[39m(\u001B[38;5;241m5\u001B[39m):\n\u001B[0;32m----> 4\u001B[0m     value \u001B[38;5;241m=\u001B[39m \u001B[38;5;28;43mnext\u001B[39;49m\u001B[43m(\u001B[49m\u001B[43mstring\u001B[49m\u001B[43m)\u001B[49m\n\u001B[1;32m      5\u001B[0m     \u001B[38;5;28;01mif\u001B[39;00m i \u001B[38;5;241m<\u001B[39m \u001B[38;5;241m4\u001B[39m:\n\u001B[1;32m      6\u001B[0m         \u001B[38;5;28mprint\u001B[39m(value)\n",
      "\u001B[0;31mTypeError\u001B[0m: 'str' object is not an iterator"
     ]
    }
   ]
  },
  {
   "cell_type": "markdown",
   "source": [
    " 12. (5б). Опишіть своїми словами в одному реченні, як ви розумієте різницю між ітерабельними обʼєктами та ітераторами (можна на прикладі)."
   ],
   "metadata": {
    "id": "XwtMEopwJ4pH"
   }
  },
  {
   "cell_type": "markdown",
   "source": [
    "Ітерабельні обєкти дають можливість користувачу їх перебирати в циклі фор. Ітератори створюють обгортку для неітерабельних елементів."
   ],
   "metadata": {
    "id": "-sHrODc3KFn8"
   }
  },
  {
   "cell_type": "markdown",
   "source": [
    "13. (11б). Створіть клас, що має визначений Iterator Protocol та при кожному виклику next повертає літери англійської абетки, поки вони не вичерпаються."
   ],
   "metadata": {
    "id": "E9qJWmNbK8Gl"
   }
  },
  {
   "cell_type": "code",
   "source": [
    "class Alphabet:\n",
    "    def __init__(self):\n",
    "        self.current_char = ord('a') - 1\n",
    "\n",
    "    def __iter__(self):\n",
    "        return self\n",
    "\n",
    "    def __next__(self):\n",
    "        self.current_char += 1\n",
    "        if self.current_char > ord('z'):\n",
    "            raise StopIteration\n",
    "        return chr(self.current_char)"
   ],
   "metadata": {
    "id": "cqx-g_RsLo6I",
    "ExecuteTime": {
     "end_time": "2024-03-09T22:30:37.940989Z",
     "start_time": "2024-03-09T22:30:37.936390Z"
    }
   },
   "execution_count": 161,
   "outputs": []
  },
  {
   "cell_type": "code",
   "execution_count": 162,
   "outputs": [
    {
     "name": "stdout",
     "output_type": "stream",
     "text": [
      "a\n",
      "b\n",
      "c\n",
      "d\n",
      "e\n",
      "f\n",
      "g\n",
      "h\n",
      "i\n",
      "j\n",
      "k\n",
      "l\n",
      "m\n",
      "n\n",
      "o\n",
      "p\n",
      "q\n",
      "r\n",
      "s\n",
      "t\n",
      "u\n",
      "v\n",
      "w\n",
      "x\n",
      "y\n",
      "z\n"
     ]
    },
    {
     "ename": "StopIteration",
     "evalue": "",
     "output_type": "error",
     "traceback": [
      "\u001B[0;31m---------------------------------------------------------------------------\u001B[0m",
      "\u001B[0;31mStopIteration\u001B[0m                             Traceback (most recent call last)",
      "Input \u001B[0;32mIn [162]\u001B[0m, in \u001B[0;36m<cell line: 3>\u001B[0;34m()\u001B[0m\n\u001B[1;32m      1\u001B[0m alphabet \u001B[38;5;241m=\u001B[39m Alphabet()\n\u001B[1;32m      3\u001B[0m \u001B[38;5;28;01mfor\u001B[39;00m _ \u001B[38;5;129;01min\u001B[39;00m \u001B[38;5;28mrange\u001B[39m(\u001B[38;5;241m30\u001B[39m):\n\u001B[0;32m----> 4\u001B[0m     \u001B[38;5;28mprint\u001B[39m(\u001B[38;5;28;43mnext\u001B[39;49m\u001B[43m(\u001B[49m\u001B[43malphabet\u001B[49m\u001B[43m)\u001B[49m)\n",
      "Input \u001B[0;32mIn [161]\u001B[0m, in \u001B[0;36mAlphabet.__next__\u001B[0;34m(self)\u001B[0m\n\u001B[1;32m      9\u001B[0m \u001B[38;5;28mself\u001B[39m\u001B[38;5;241m.\u001B[39mcurrent_char \u001B[38;5;241m+\u001B[39m\u001B[38;5;241m=\u001B[39m \u001B[38;5;241m1\u001B[39m\n\u001B[1;32m     10\u001B[0m \u001B[38;5;28;01mif\u001B[39;00m \u001B[38;5;28mself\u001B[39m\u001B[38;5;241m.\u001B[39mcurrent_char \u001B[38;5;241m>\u001B[39m \u001B[38;5;28mord\u001B[39m(\u001B[38;5;124m'\u001B[39m\u001B[38;5;124mz\u001B[39m\u001B[38;5;124m'\u001B[39m):\n\u001B[0;32m---> 11\u001B[0m     \u001B[38;5;28;01mraise\u001B[39;00m \u001B[38;5;167;01mStopIteration\u001B[39;00m\n\u001B[1;32m     12\u001B[0m \u001B[38;5;28;01mreturn\u001B[39;00m \u001B[38;5;28mchr\u001B[39m(\u001B[38;5;28mself\u001B[39m\u001B[38;5;241m.\u001B[39mcurrent_char)\n",
      "\u001B[0;31mStopIteration\u001B[0m: "
     ]
    }
   ],
   "source": [
    "alphabet = Alphabet()\n",
    "\n",
    "for _ in range(30):\n",
    "    print(next(alphabet))"
   ],
   "metadata": {
    "collapsed": false,
    "ExecuteTime": {
     "end_time": "2024-03-09T22:31:06.875678Z",
     "start_time": "2024-03-09T22:31:06.847476Z"
    }
   }
  },
  {
   "cell_type": "markdown",
   "source": [
    "# Вітаю! Ви велика молодець, що впоралась. Похваліть себе та побалуйте чимось приємним. Я Вами пишаюся."
   ],
   "metadata": {
    "id": "Z3E3S_s1Fv7-"
   }
  },
  {
   "cell_type": "code",
   "execution_count": null,
   "outputs": [],
   "source": [],
   "metadata": {
    "collapsed": false
   }
  }
 ]
}
